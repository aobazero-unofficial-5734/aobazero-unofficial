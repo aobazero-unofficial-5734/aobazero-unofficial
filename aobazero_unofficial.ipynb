{
  "nbformat": 4,
  "nbformat_minor": 0,
  "metadata": {
    "colab": {
      "name": "aobazero_unofficial.ipynb",
      "version": "0.3.2",
      "provenance": [],
      "private_outputs": true,
      "collapsed_sections": [],
      "toc_visible": true
    },
    "kernelspec": {
      "name": "python3",
      "display_name": "Python 3"
    },
    "accelerator": "GPU"
  },
  "cells": [
    {
      "cell_type": "code",
      "metadata": {
        "id": "",
        "colab_type": "code",
        "colab": {}
      },
      "source": [
        "%cd /content/aoba-zero\n",
        "!sed -i \"s/^Device .*$/Device -1 -1/g\" autousi.cfg\n",
        "!./bin/autousi\n",
        "%cd /content/\n",
        "!git clone --depth 1 https://github.com/kobanium/aoba-zero.git \n",
        "!apt install libboost-dev libboost-program-options-dev  libboost-filesystem-dev liblzma-dev zlib1g-dev opencl-headers ocl-icd-libopencl1 ocl-icd-opencl-dev \n",
        "%cd /content/aoba-zero\n",
        "!make\n",
        "\n",
        "%cd /content/aoba-zero\n",
        "!sed -i \"s/^Device .*$/Device -1 -1/g\" autousi.cfg\n",
        "!./bin/autousi "
      ],
      "execution_count": 0,
      "outputs": []
    }
  ]
}
